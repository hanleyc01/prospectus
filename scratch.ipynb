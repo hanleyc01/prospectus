{
 "cells": [
  {
   "cell_type": "markdown",
   "id": "7092dea2",
   "metadata": {},
   "source": []
  },
  {
   "cell_type": "markdown",
   "id": "26bfb791",
   "metadata": {},
   "source": []
  },
  {
   "cell_type": "markdown",
   "id": "ee66123f",
   "metadata": {},
   "source": [
    "$$(\\text{name} \\otimes \\text{add\\_one}) \\oplus (\\text{args} \\otimes \\text{n}) \\oplus (\\text{body} \\otimes (\\text{plus} \\oplus (\\text{lhs} \\otimes n) \\oplus (\\text{rhs} \\otimes 1)))$$"
   ]
  }
 ],
 "metadata": {
  "language_info": {
   "name": "python"
  }
 },
 "nbformat": 4,
 "nbformat_minor": 5
}
